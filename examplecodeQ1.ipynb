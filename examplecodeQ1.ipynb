{
 "cells": [
  {
   "cell_type": "code",
   "execution_count": null,
   "id": "f4d55395",
   "metadata": {},
   "outputs": [],
   "source": [
    "pip install pandas numpy matplotlib numpy seaborn statsmodels scipy"
   ]
  },
  {
   "cell_type": "markdown",
   "id": "33f1aa37",
   "metadata": {},
   "source": [
    "***0.Import-package***"
   ]
  },
  {
   "cell_type": "code",
   "execution_count": null,
   "id": "35c1277b",
   "metadata": {},
   "outputs": [],
   "source": [
    "import pandas as pd\n",
    "import numpy as np\n",
    "import datetime as dt\n",
    "import matplotlib.pyplot as plt\n",
    "from scipy.stats.mstats import winsorize"
   ]
  },
  {
   "cell_type": "markdown",
   "id": "d6a291b6",
   "metadata": {},
   "source": [
    "***import dataset***"
   ]
  },
  {
   "cell_type": "code",
   "execution_count": null,
   "id": "36eeb006",
   "metadata": {},
   "outputs": [],
   "source": [
    "file_path =r'C:\\Users\\yumi7517\\OneDrive - University of Otago\\Desktop\\FINC503\\A1 material-python\\DATA for CLASS\\NZDATA-FORQ1.csv'\n",
    "df = pd.read_csv(file_path)\n",
    "print(df)\n",
    "\n"
   ]
  },
  {
   "cell_type": "markdown",
   "id": "40f3ff0b",
   "metadata": {},
   "source": [
    "**Show top 5 rows**"
   ]
  },
  {
   "cell_type": "code",
   "execution_count": null,
   "id": "5945b2bc",
   "metadata": {},
   "outputs": [],
   "source": [
    "df.head(5)"
   ]
  },
  {
   "cell_type": "markdown",
   "id": "ad705f87",
   "metadata": {},
   "source": [
    "**Drop Missing**"
   ]
  },
  {
   "cell_type": "markdown",
   "id": "19242a12",
   "metadata": {},
   "source": [
    "***2. data cleaing**"
   ]
  },
  {
   "cell_type": "code",
   "execution_count": null,
   "id": "a67fc56c",
   "metadata": {},
   "outputs": [],
   "source": [
    "df=df.dropna()\n",
    "df.head(5)"
   ]
  },
  {
   "cell_type": "markdown",
   "id": "ac1b890b",
   "metadata": {},
   "source": [
    "**2.1-data cleaning-convert Variable to numeric**"
   ]
  },
  {
   "cell_type": "code",
   "execution_count": null,
   "id": "3d074991",
   "metadata": {},
   "outputs": [],
   "source": [
    "#df['RET'] = pd.to_numeric(df['RET'], errors='coerce')\n",
    "df['monly_UNADJUSTED PRICE'] = pd.to_numeric(df['monly_UNADJUSTED PRICE'], errors='coerce')\n",
    "#keep price >0, ensuring we have correct data\n",
    "df = df[df['monly_UNADJUSTED PRICE'] > 0]\n",
    "\n",
    "\n",
    "\n",
    "#winsorized\n",
    "price_series = df['monly_UNADJUSTED PRICE']\n",
    "winsorized_price = winsorize(price_series, limits=[0.01, 0.01])\n",
    "df['monly_UNADJUSTED PRICE'] = winsorized_price\n"
   ]
  },
  {
   "cell_type": "markdown",
   "id": "e12119c9",
   "metadata": {},
   "source": [
    "***3. calculate simple return***"
   ]
  },
  {
   "cell_type": "code",
   "execution_count": null,
   "id": "fbbc401c",
   "metadata": {},
   "outputs": [],
   "source": [
    "df['Simple_Return'] = df.groupby('Stock_Name')['monly_UNADJUSTED PRICE'].pct_change()\n",
    "\n",
    "\n",
    "\n",
    "df.head(5)"
   ]
  },
  {
   "cell_type": "markdown",
   "id": "debc142e",
   "metadata": {},
   "source": [
    "***4.mean value for simple return ***"
   ]
  },
  {
   "cell_type": "code",
   "execution_count": null,
   "id": "bc450642",
   "metadata": {},
   "outputs": [],
   "source": [
    "print(df['Simple_Return'].mean())"
   ]
  },
  {
   "cell_type": "markdown",
   "id": "030a832b",
   "metadata": {},
   "source": [
    "*** 5.Standatard Deviation for simple return ***"
   ]
  },
  {
   "cell_type": "code",
   "execution_count": null,
   "id": "25d0d22f",
   "metadata": {},
   "outputs": [],
   "source": [
    "print(df['Simple_Return'].std())"
   ]
  },
  {
   "cell_type": "markdown",
   "id": "56ff0cd0",
   "metadata": {},
   "source": [
    "***5. time identify and Create YYYY-MM***"
   ]
  },
  {
   "cell_type": "code",
   "execution_count": null,
   "id": "9e7e818f",
   "metadata": {},
   "outputs": [],
   "source": [
    "df['date']=pd.to_datetime(df['Date'])\n",
    "df['month']=df['date'].dt.to_period('M')\n",
    "df.head(5)"
   ]
  },
  {
   "cell_type": "markdown",
   "id": "cf167b31",
   "metadata": {},
   "source": [
    "**6.first order autocrrelation for simple return***"
   ]
  },
  {
   "cell_type": "code",
   "execution_count": null,
   "id": "9686c7af",
   "metadata": {},
   "outputs": [],
   "source": [
    "lagauto_simple_return= df['Simple_Return'].autocorr(lag=1)\n",
    "#df[''] is creating a new column\n",
    "print(lagauto_simple_return)\n"
   ]
  },
  {
   "cell_type": "markdown",
   "id": "0140bad0",
   "metadata": {},
   "source": [
    "***7.calcluate continously compund reutrn***"
   ]
  },
  {
   "cell_type": "code",
   "execution_count": null,
   "id": "388cbaad",
   "metadata": {},
   "outputs": [],
   "source": [
    "df['CCR']=np.log1p(df['Simple_Return'])  #log return=ln(1+Simple Return)\n",
    "print(df['CCR'].std())\n",
    "print(df['CCR'].mean())\n",
    "\n",
    "\n",
    "#first order autocrrelation for continiously return\n",
    "lag_CCR= df['CCR'].autocorr(lag=1)\n",
    "print(lag_CCR)\n"
   ]
  },
  {
   "cell_type": "code",
   "execution_count": null,
   "id": "b2a9fd52",
   "metadata": {},
   "outputs": [],
   "source": [
    "df.describe()"
   ]
  },
  {
   "cell_type": "markdown",
   "id": "d83e5895",
   "metadata": {},
   "source": [
    "**Create market average monthly mean simple return**\n",
    "we aggregate simple reutn by the month, and calcualte monthly market mean simple return"
   ]
  },
  {
   "cell_type": "code",
   "execution_count": null,
   "id": "bb8f2652",
   "metadata": {},
   "outputs": [],
   "source": [
    "monthlyAvg_Simple = df.groupby('month')['Simple_Return'].mean().reset_index() #return a new dataframe, inlcuding each month's simple return\n",
    "\n",
    "\n",
    "print(monthlyAvg_Simple)\n",
    "# groupby()...mean() create a new dataframe. if you did not set 'reset_index() ', pandas porbably automatically set month as index. index cannot be access with normally way,like groupby\n",
    "#therefore, we set it as not index"
   ]
  },
  {
   "cell_type": "markdown",
   "id": "54d2f05a",
   "metadata": {},
   "source": [
    "**Create market average monthly mean compunded return**\n",
    "we aggregate simple reutn by the month, and calcualte monthly market mean compunded return"
   ]
  },
  {
   "cell_type": "code",
   "execution_count": null,
   "id": "0cd94ad5",
   "metadata": {},
   "outputs": [],
   "source": [
    "monthlyAvg_CCR = df.groupby('month')['CCR'].mean().reset_index() #return a new dataframe, inlcuding each month's compunded return\n",
    "print(monthlyAvg_CCR)\n",
    "#monthlyAvg_CCR.head(5)"
   ]
  },
  {
   "cell_type": "markdown",
   "id": "2b9b5c9e",
   "metadata": {},
   "source": [
    "***⭐Create 4-year Groups- calculate each perido's Simple return mean***\n",
    "first step, give each 4-year group a label.\n",
    "2000-2003, group 1\n",
    "2004-2007, group 2\n",
    "..."
   ]
  },
  {
   "cell_type": "markdown",
   "id": "b9248e80",
   "metadata": {},
   "source": [
    "***Calculate each 4-year group’s mean simple reutrn***"
   ]
  },
  {
   "cell_type": "code",
   "execution_count": null,
   "id": "bb47536e",
   "metadata": {},
   "outputs": [],
   "source": [
    "\n",
    "monthlyAvg_Simple['year'] = monthlyAvg_Simple['month'].dt.year\n",
    "monthlyAvg_Simple['year'] = monthlyAvg_Simple['month'].astype(str).str[:4].astype(int)\n",
    "\n",
    "#create a year group. we use each year mins the first year (ie.2000), and then we integer division by 4 (//4), thewn we get group\n",
    "#eg, year 2023, will be divdid into group (2023-2000)//4=5. group numbrt=5\n",
    "monthlyAvg_Simple['year_group'] = ((monthlyAvg_Simple['year'] - monthlyAvg_Simple['year'].min())//4)\n",
    "\n",
    "#monthlyAvg_Simple.head(5)\n",
    "#monthlyAvg_Simple.tail(5)\n",
    "print(monthlyAvg_Simple)"
   ]
  },
  {
   "cell_type": "code",
   "execution_count": null,
   "id": "2dcc12dc",
   "metadata": {},
   "outputs": [],
   "source": [
    "avg_by_group = monthlyAvg_Simple.groupby('year_group')['Simple_Return'].mean().reset_index()\n",
    "avg_by_group.rename(columns={'Simple_Return': 'simple_return_mean'}, inplace=True)\n",
    "print(avg_by_group)"
   ]
  },
  {
   "cell_type": "markdown",
   "id": "4ae6f330",
   "metadata": {},
   "source": [
    "**Create year Range for each group**\n",
    "add excat year period to the year_group"
   ]
  },
  {
   "cell_type": "code",
   "execution_count": null,
   "id": "9d40e95f",
   "metadata": {},
   "outputs": [],
   "source": [
    "base_year = 2000  # start year\n",
    "avg_by_group['Year_Range'] = (\n",
    "    (base_year + avg_by_group['year_group'] * 4).astype(str)\n",
    "    + '-' +\n",
    "    (base_year + avg_by_group['year_group'] * 4 + 3).astype(str)\n",
    ")\n",
    "# eg. for year_group 5, it would be (2000+5*3) to (2000+5*3+2) ------>2015-2017\n",
    "\n",
    "print(avg_by_group)"
   ]
  },
  {
   "cell_type": "markdown",
   "id": "10ba59cd",
   "metadata": {},
   "source": [
    "**Standard Deviation each year group** for simple return"
   ]
  },
  {
   "cell_type": "code",
   "execution_count": null,
   "id": "d75f88a2",
   "metadata": {},
   "outputs": [],
   "source": [
    "std_by_group = monthlyAvg_Simple.groupby('year_group')['Simple_Return'].std().reset_index()\n",
    "std_by_group.rename(columns={'Simple_Return': 'simple_returnSD'}, inplace=True)\n",
    "base_year = 2000  # start year\n",
    "std_by_group['Year_Range'] = (\n",
    "    (base_year + std_by_group['year_group'] * 4).astype(str)\n",
    "    + '-' +\n",
    "    (base_year + std_by_group['year_group'] * 4 + 3).astype(str)\n",
    ")\n",
    "\n",
    "print(std_by_group)"
   ]
  },
  {
   "cell_type": "markdown",
   "id": "1d7c8bfd",
   "metadata": {},
   "source": [
    "**first order autocorrelation** for simple return"
   ]
  },
  {
   "cell_type": "code",
   "execution_count": null,
   "id": "cac327fa",
   "metadata": {},
   "outputs": [],
   "source": [
    "def auto_1(x):\n",
    "    return x.autocorr(lag=1)\n",
    "autocorr_by_group = monthlyAvg_Simple.groupby('year_group')['Simple_Return'].apply(auto_1).reset_index()\n",
    "autocorr_by_group.rename(columns={'Simple_Return': 'simple_return_AC1'}, inplace=True)  ##inplace=true means that change the neme in the dataframe, not in a new dataframe\n",
    "\n",
    "base_year = 2000  # start year\n",
    "autocorr_by_group['Year_Range'] = (\n",
    "    (base_year + autocorr_by_group['year_group'] * 4).astype(str)\n",
    "    + '-' +\n",
    "    (base_year + autocorr_by_group['year_group'] * 4 + 3).astype(str)\n",
    ")\n",
    "\n",
    "print(autocorr_by_group)"
   ]
  },
  {
   "cell_type": "markdown",
   "id": "f0b3c18b",
   "metadata": {},
   "source": [
    "***⭐Create 4-year Groups- calculate each perido's continiously compund return return mean***\n",
    "first step, give each 4-year group a label.\n",
    "2000-2003, group 1\n",
    "2004-2007, group 2\n",
    "..."
   ]
  },
  {
   "cell_type": "code",
   "execution_count": null,
   "id": "c24fcfe0",
   "metadata": {},
   "outputs": [],
   "source": [
    "\n",
    "monthlyAvg_CCR['year'] = monthlyAvg_CCR['month'].dt.year\n",
    "monthlyAvg_CCR['year'] = monthlyAvg_CCR['month'].astype(str).str[:4].astype(int)\n",
    "\n",
    "\n",
    "\n",
    "#create a year group. we use each year mins the first year (ie.2000), and then we integer division by 4 (//4), thewn we get group\n",
    "#eg, year 2023, will be divdid into group (2023-2000)//4=5. group numbrt=5\n",
    "monthlyAvg_CCR['year_group'] = ((monthlyAvg_CCR['year'] - monthlyAvg_CCR['year'].min())//4)\n",
    "\n",
    "#monthlyAvg_Simple.head(5)\n",
    "#monthlyAvg_Simple.tail(5)\n",
    "print(monthlyAvg_CCR)"
   ]
  },
  {
   "cell_type": "code",
   "execution_count": null,
   "id": "e2ac391c",
   "metadata": {},
   "outputs": [],
   "source": [
    "avg_by_group = monthlyAvg_CCR.groupby('year_group')['CCR'].mean().reset_index()\n",
    "avg_by_group.rename(columns={'CCR': 'CCR_MEAN'}, inplace=True)\n",
    "print(avg_by_group)"
   ]
  },
  {
   "cell_type": "markdown",
   "id": "cd6a833b",
   "metadata": {},
   "source": [
    "**continously compound return each year group** for continious compund reutrn"
   ]
  },
  {
   "cell_type": "code",
   "execution_count": null,
   "id": "70ac45be",
   "metadata": {},
   "outputs": [],
   "source": [
    "base_year = 2000  # start year\n",
    "avg_by_group['Year_Range'] = (\n",
    "    (base_year + avg_by_group['year_group'] * 4).astype(str)\n",
    "    + '-' +\n",
    "    (base_year + avg_by_group['year_group'] * 4 + 3).astype(str)\n",
    ")\n",
    "# eg. for year_group 5, it would be (2000+5*3) to (2000+5*3+2) ------>2015-2017\n",
    "\n",
    "print(avg_by_group)"
   ]
  },
  {
   "cell_type": "markdown",
   "id": "8552af60",
   "metadata": {},
   "source": [
    "**Standard Deviation each year group** for continious compund reutrn"
   ]
  },
  {
   "cell_type": "code",
   "execution_count": null,
   "id": "2540e0f8",
   "metadata": {},
   "outputs": [],
   "source": [
    "std_by_group = monthlyAvg_CCR.groupby('year_group')['CCR'].std().reset_index()\n",
    "std_by_group.rename(columns={'CCR': 'CCR_SD'}, inplace=True)\n",
    "base_year = 2000  # start year\n",
    "std_by_group['Year_Range'] = (\n",
    "    (base_year + std_by_group['year_group'] * 4).astype(str)\n",
    "    + '-' +\n",
    "    (base_year + std_by_group['year_group'] * 4 + 3).astype(str)\n",
    ")\n",
    "\n",
    "print(std_by_group)"
   ]
  },
  {
   "cell_type": "markdown",
   "id": "cb6095a4",
   "metadata": {},
   "source": [
    "**first order autocorrelation** for continious compound return"
   ]
  },
  {
   "cell_type": "code",
   "execution_count": null,
   "id": "6335b6b5",
   "metadata": {},
   "outputs": [],
   "source": [
    "def auto_1(x):\n",
    "    return x.autocorr(lag=1)\n",
    "autocorr_by_group_CCR = monthlyAvg_CCR.groupby('year_group')['CCR'].apply(auto_1).reset_index()\n",
    "autocorr_by_group_CCR.rename(columns={'CCR': 'CCR_AC1'}, inplace=True)  ##inplace=true means that change the neme in the dataframe, not in a new dataframe\n",
    "\n",
    "base_year = 2000  # start year\n",
    "autocorr_by_group_CCR['Year_Range'] = (\n",
    "    (base_year + autocorr_by_group_CCR['year_group'] * 4).astype(str)\n",
    "    + '-' +\n",
    "    (base_year + autocorr_by_group_CCR['year_group'] * 4 + 3).astype(str)\n",
    ")\n",
    "\n",
    "print(autocorr_by_group_CCR)"
   ]
  },
  {
   "cell_type": "markdown",
   "id": "984abddb",
   "metadata": {},
   "source": [
    "***Summary Statistics***"
   ]
  },
  {
   "cell_type": "code",
   "execution_count": null,
   "id": "b40eb4c4",
   "metadata": {},
   "outputs": [],
   "source": [
    "#df.describe()\n",
    "df_summary=df[[ 'Simple_Return', 'CCR', 'lag1autocc']].describe()\n",
    "\n",
    "df_summary.to_csv(r'C:\\Users\\yumi7517\\OneDrive - University of Otago\\Desktop\\example code\\summarystatistics.csv', index=False)\n",
    "print(df_summary)"
   ]
  }
 ],
 "metadata": {
  "kernelspec": {
   "display_name": "base",
   "language": "python",
   "name": "python3"
  },
  "language_info": {
   "codemirror_mode": {
    "name": "ipython",
    "version": 3
   },
   "file_extension": ".py",
   "mimetype": "text/x-python",
   "name": "python",
   "nbconvert_exporter": "python",
   "pygments_lexer": "ipython3",
   "version": "3.11.7"
  }
 },
 "nbformat": 4,
 "nbformat_minor": 5
}
